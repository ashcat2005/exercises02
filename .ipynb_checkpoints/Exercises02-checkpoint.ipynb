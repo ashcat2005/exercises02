{
 "cells": [
  {
   "cell_type": "markdown",
   "metadata": {},
   "source": [
    "# Computational Astrophysics\n",
    "## Exercises 02."
   ]
  },
  {
   "cell_type": "markdown",
   "metadata": {},
   "source": [
    "**Name:** \n",
    "\n",
    "---"
   ]
  },
  {
   "cell_type": "markdown",
   "metadata": {},
   "source": [
    "---\n",
    "\n",
    "## 1. Color-Color Diagram of a Stars sample\n",
    "**`Carroll and Ostlie (2017). Section 3.6`**\n",
    "\n",
    "The SkyServer's Object Explorer\n",
    "\n",
    "http://skyserver.sdss.org/dr1/en/tools/explore/\n",
    "\n",
    "is a place where you can find individual onjects, either either based upon their object IDs, or their sky position. For example, the information of the star\n",
    "\n",
    "J115932.2-001652.5 <br> \n",
    "ObjID:582093483279581263 \n",
    "\n",
    "with coordinates (ra=179.884334, dec=-0.281259) is given at\n",
    "\n",
    "https://skyserver.sdss.org/dr1/en/tools/explore/obj.asp?ra=179.88431&dec=-0.282125\n",
    "\n",
    "\n",
    "In this exercise, we will work with a set of 17 stars: \n",
    "\n",
    "| Object ID  | RA  | Dec  |\n",
    "| :---: | :---: | :---: |\n",
    "| 582093483279581263 | 179.88431 | -0.28125|\n",
    "| 582093483279581296 | 179.94806 | -0.2724 |\n",
    "| 582093482742710367 | 179.97106 | -0.82002|\n",
    "| 582093499934703623 | 179.8339  | -0.55558|\n",
    "| 582093499934703856 | 179.89941 | -0.61227|\n",
    "| 582093499934703933 | 179.97446 | -0.55081|\n",
    "| 582093499934703813 | 179.85499 | -0.4708 |\n",
    "| 582093499934703876 | 179.91213 | -0.50101|\n",
    "| 582093499934703941 | 179.97887 |-0.57861 |\n",
    "| 582093483279515723 | 179.789   | -0.29908|\n",
    "| 582093499934834837 | 180.20067 |-0.57081 |\n",
    "| 582093483279646824 | 180.10892 | -0.34719|\n",
    "| 582093482742775943 | 180.11286 |-0.77366 |\n",
    "| 582093482742775905 | 180.10103 | -0.64383|\n",
    "| 582093482742710369 | 179.97602 |-0.66007 |\n",
    "| 582093499934834834 | 180.19612 |-0.47336 |\n",
    "| 582093482742775953 | 180.16034 |-0.72755 |\n",
    "\n",
    "In the file 'stars_sample.csv' we have the following information:\n",
    "\n",
    "- ObjectID\n",
    "- RA\n",
    "- Dec\n",
    "- Magnitudes in the SDSS' five filters: u, g, r, i and z\n",
    "\n",
    "\n",
    "\n",
    "1. Load the data for the stars from the 'stars_sample.csv' file.\n",
    "\n",
    "3. Find the *g-r*, *r-i*, *u-g* and *i-z* colors of each of the 17 stars.\n",
    "\n",
    "4. Make a color-color diagram of the 17 stars, with *g-r* on the x-axis and *r-i* on the y-axis.\n",
    "\n",
    "5. Which end of the line in your graph corresponds to hotter stars? Which corresponds to cooler stars? How do you know?\n",
    "\n",
    "**Hint:** Your graph will show that hotter stars tend to follow the trend of a straight line, but cooler stars diverge from this trend. This means that hotter stars can be thought of as thermal sources, but cooler stars can not.\n",
    "\n",
    "6. Make another color-color diagram of the 17 stars, with *u-g* on the x-axis and *g-r* on the y-axis. Once again, the hottest stars follow a linear trend, meaning they can be thought of as thermal sources. But in the *u-g/g-r* diagram, where does this trend begin to break down? What is the significance of this observation for thinking about real stars as thermal sources?\n",
    "\n",
    "7. If you know about stellar evolution you can answer this question. What is the significance of the flat line at the top of the *u-g/g-r* diagram? What types of stars are these?\n",
    "\n",
    "**Hint:** What does it mean for *g-r* to be constant as *u-g* changes?\n",
    "\n"
   ]
  },
  {
   "cell_type": "markdown",
   "metadata": {},
   "source": [
    "---\n",
    "## 2. Spectroscopic Binary Data\n",
    "**`Griffin, R.F. Obs. 130, p.358 (2010). Table VI`**\n",
    "https://ui.adsabs.harvard.edu/abs/2010Obs...130..349G/abstract\n",
    "\n",
    "\n",
    "Spectroscopic binary data both single line and double line was published in the journal \"The Observatory\" by R.F. Griffin as a long series of papers, describing the continuous work by Yoss and Griffin (1997, JA and A., 18,161). \n",
    "\n",
    "The observations have been obtained with photoelectric spectrum scanners and many of very long period have been published recently. \n",
    "\n",
    "The paper No. 211, Griffin, R.F. Obs. 130, p.358 (2010), includes data for the stars HD128642, HD144601, HD150172, and HD155641. In particular, the information in the Table VI, which reports the radial velocities of HD108613 recorded from 1973 to 2010 is given in the file 'HD108613.csv' (it includes the Julian Date and radial velocity in km/s). No spectrum type is available and there is evidence of photometric variability of unknown origin. \n",
    "\n",
    "1. Use the data from file HD108613.csv to plot the radial velocity as function of the Julian date. Can you estimate the period of motion of this system?\n"
   ]
  },
  {
   "cell_type": "markdown",
   "metadata": {},
   "source": [
    "## 3. Exoplanets Database\n",
    "\n",
    "The website www.kaggle.com allows users to find and publish data sets, explore and build models in web data-science environment and work with other data scientist around the world. Go to this website and open a free account.\n",
    "\n",
    "In this exercise we will use an Exoplanets database by Eduardo Wojcikiewicz. Go to the repository \n",
    "\n",
    "https://www.kaggle.com/eduardowoj/exoplanets-database?select=kepler.csv\n",
    "\n",
    "and download the database 'kepler.csv'.\n",
    "\n",
    "1. Load the content of the file 'kepler.csv' and explore the information.\n",
    "\n",
    "2. Calculate the surface gravity and add a column with this information (for the exoplanents with enough data to calculate this quantity). Define a dataframe with the exoplanets with surface gravity between 1 and 5 times the surface gravity of Earth.\n",
    "\n",
    "3. How does the mass of the planets correlates with their radius? What does this tells us about the planets' compositions? (Hint: There are only two kinds of planets: Gas planets and rocky planets, with low and high densities, respectively)\n",
    "\n",
    "4. How does the size of the planet correlates with the orbital period? Are there any correlations with the spectral type of the host stars?\n",
    "\n",
    "5. Which are the best detection methods? What are their limitations? Why are there no planets with large orbital periods detected by transit and low mass planets detected by radial velocity?\n",
    "\n",
    "You can find some relevant information about exoplanets at\n",
    "\n",
    "https://exoplanets.nasa.gov"
   ]
  },
  {
   "cell_type": "markdown",
   "metadata": {},
   "source": [
    "¡¡ Happy Coding !!"
   ]
  }
 ],
 "metadata": {
  "kernelspec": {
   "display_name": "Python 3 (ipykernel)",
   "language": "python",
   "name": "python3"
  },
  "language_info": {
   "codemirror_mode": {
    "name": "ipython",
    "version": 3
   },
   "file_extension": ".py",
   "mimetype": "text/x-python",
   "name": "python",
   "nbconvert_exporter": "python",
   "pygments_lexer": "ipython3",
   "version": "3.9.5"
  }
 },
 "nbformat": 4,
 "nbformat_minor": 2
}
